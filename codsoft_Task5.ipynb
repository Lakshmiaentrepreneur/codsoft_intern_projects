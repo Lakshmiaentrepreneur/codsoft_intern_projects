{
 "cells": [
  {
   "cell_type": "code",
   "execution_count": null,
   "id": "8d4ccded",
   "metadata": {},
   "outputs": [
    {
     "name": "stdout",
     "output_type": "stream",
     "text": [
      "Welcome to Rock-Paper-Scissors Game!\n",
      "Enter your choice (rock, paper, or scissors as r, p, or s): r\n",
      "You chose r.\n",
      "Computer chose r.\n",
      "It's a tie!\n",
      "Do you want to play again? (y/n): y\n"
     ]
    }
   ],
   "source": [
    "import random\n",
    "\n",
    "def determine_winner(user_choice, computer_choice):\n",
    "    if user_choice == computer_choice:\n",
    "        return \"It's a tie!\"\n",
    "    elif (user_choice == 'r' and computer_choice == 's') or \\\n",
    "         (user_choice == 's' and computer_choice == 'p') or \\\n",
    "         (user_choice == 'p' and computer_choice == 'r'):\n",
    "        return \"You win!\"\n",
    "    else:\n",
    "        return \"Computer wins!\"\n",
    "\n",
    "def play_game():\n",
    "    choices = ['r', 'p', 's']\n",
    "    user_choice = input(\"Enter your choice (rock, paper, or scissors as r, p, or s): \").lower()\n",
    "    while user_choice not in choices:\n",
    "        print(\"Invalid choice. Please enter either rock(r), paper(p), or scissors(s).\")\n",
    "        user_choice = input(\"Enter your choice: \").lower()\n",
    "\n",
    "    computer_choice = random.choice(choices)\n",
    "    print(f\"You chose {user_choice}.\")\n",
    "    print(f\"Computer chose {computer_choice}.\")\n",
    "\n",
    "    result = determine_winner(user_choice, computer_choice)\n",
    "    print(result)\n",
    "\n",
    "def main():\n",
    "    print(\"Welcome to Rock-Paper-Scissors Game!\")\n",
    "    \n",
    "    while True:\n",
    "        play_game()\n",
    "        play_again = input(\"Do you want to play again? (y/n): \").lower()\n",
    "        if play_again != 'y':\n",
    "            print(\"Thanks for playing!\")\n",
    "            break\n",
    "\n",
    "if __name__ == \"__main__\":\n",
    "    main()\n"
   ]
  },
  {
   "cell_type": "code",
   "execution_count": null,
   "id": "5f2a804c",
   "metadata": {},
   "outputs": [],
   "source": []
  },
  {
   "cell_type": "code",
   "execution_count": null,
   "id": "ef433065",
   "metadata": {},
   "outputs": [],
   "source": []
  }
 ],
 "metadata": {
  "kernelspec": {
   "display_name": "Python 3 (ipykernel)",
   "language": "python",
   "name": "python3"
  },
  "language_info": {
   "codemirror_mode": {
    "name": "ipython",
    "version": 3
   },
   "file_extension": ".py",
   "mimetype": "text/x-python",
   "name": "python",
   "nbconvert_exporter": "python",
   "pygments_lexer": "ipython3",
   "version": "3.9.12"
  }
 },
 "nbformat": 4,
 "nbformat_minor": 5
}
